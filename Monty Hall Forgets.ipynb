{
 "cells": [
  {
   "cell_type": "code",
   "execution_count": 1,
   "id": "61a5267d",
   "metadata": {},
   "outputs": [],
   "source": [
    "# variation on monty hall paradox where he forgets and might reveal the car\n",
    "# this is supposed to change the odds to 1/2, but i'm dubious"
   ]
  },
  {
   "cell_type": "code",
   "execution_count": 35,
   "id": "1f474f29",
   "metadata": {},
   "outputs": [
    {
     "name": "stdout",
     "output_type": "stream",
     "text": [
      "333343 wins, 1000000 trials, and  499951 accidents\n",
      "0.333343 total win percentage \n",
      "\n",
      "333343 wins out of 500049 clean trials \n",
      "\n",
      "0.666620671174225 win percentage excluding accidents \n",
      "\n"
     ]
    }
   ],
   "source": [
    "from random import *\n",
    "trials = 1000000\n",
    "wins = 0\n",
    "accidents = 0  # how many times monty hall reveals the car\n",
    "\n",
    "\n",
    "def monty_hall_forgets():\n",
    "    global wins\n",
    "    global accidents\n",
    "    \n",
    "    car = randint(1,3)\n",
    "    guess = randint(1,3)\n",
    "    \n",
    "    # monty hall reveals a random door that isn't guessed\n",
    "    reveal = 0\n",
    "    while reveal == 0 or reveal == guess:\n",
    "        reveal = randint(1,3)\n",
    "        if reveal == car:\n",
    "            accidents += 1\n",
    "    \n",
    "    # always switch\n",
    "    switch = 0\n",
    "    while (switch == 0) or (switch == guess) or (switch == reveal):\n",
    "        switch += 1\n",
    "        \n",
    "    win = False\n",
    "    if switch == car:\n",
    "        win = True\n",
    "        wins += 1\n",
    "    \n",
    "#     print(f\"{guess} {car} {reveal} {switch} {win}\") # debug log\n",
    "    return win\n",
    "\n",
    "\n",
    "for i in range(trials):\n",
    "    monty_hall_forgets()\n",
    "    \n",
    "print(wins, \"wins,\", trials, \"trials, and \", accidents, \"accidents\")\n",
    "win_percentage = wins / trials\n",
    "print(win_percentage, \"total win percentage\",\"\\n\")\n",
    "\n",
    "print(wins, \"wins out of\", trials - accidents, \"clean trials\",\"\\n\")\n",
    "win_without_accidents = wins / (trials - accidents)\n",
    "\n",
    "print(win_without_accidents, \"win percentage excluding accidents\",\"\\n\")\n",
    "\n"
   ]
  },
  {
   "cell_type": "code",
   "execution_count": null,
   "id": "5d9d3865",
   "metadata": {},
   "outputs": [],
   "source": []
  }
 ],
 "metadata": {
  "kernelspec": {
   "display_name": "Python 3 (ipykernel)",
   "language": "python",
   "name": "python3"
  },
  "language_info": {
   "codemirror_mode": {
    "name": "ipython",
    "version": 3
   },
   "file_extension": ".py",
   "mimetype": "text/x-python",
   "name": "python",
   "nbconvert_exporter": "python",
   "pygments_lexer": "ipython3",
   "version": "3.9.7"
  }
 },
 "nbformat": 4,
 "nbformat_minor": 5
}
